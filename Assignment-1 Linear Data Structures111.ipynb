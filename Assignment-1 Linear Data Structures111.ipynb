{
 "cells": [
  {
   "cell_type": "markdown",
   "id": "ff59ea01",
   "metadata": {},
   "source": [
    "1 Delete the elements in an linked list whose sum is equal to zero"
   ]
  },
  {
   "cell_type": "code",
   "execution_count": 1,
   "id": "88904c33",
   "metadata": {},
   "outputs": [
    {
     "name": "stdout",
     "output_type": "stream",
     "text": [
      "[-18, 20, 25]\n"
     ]
    }
   ],
   "source": [
    "class Node:\n",
    "  \n",
    "    def __init__(self, data):\n",
    "        self.data = data\n",
    "        self.next = None\n",
    "  \n",
    "  \n",
    "class LinkedList1:\n",
    "  \n",
    "    def __init__(self):\n",
    "        self.head = None\n",
    "        \n",
    "    def append(self,data):\n",
    "        new_node = Node(data)\n",
    "        h = self.head\n",
    "        if self.head is None:\n",
    "            self.head = new_node\n",
    "            return\n",
    "        else:\n",
    "            while h.next!=None:\n",
    "                h = h.next\n",
    "            h.next = new_node\n",
    "  \n",
    "    def delete(self, head):\n",
    "        stack = []\n",
    "        current = head\n",
    "        list = []\n",
    "        while (current):\n",
    "            if current.data >= 0:\n",
    "                stack.append(current)\n",
    "            else:\n",
    "                temp = current\n",
    "                sum = temp.data\n",
    "                flag = False\n",
    "                while (len(stack) != 0):\n",
    "                    temp2 = stack.pop()\n",
    "                    sum += temp2.data\n",
    "                    if sum == 0:\n",
    "                        flag = True\n",
    "                        list = []\n",
    "                        break\n",
    "                    elif sum > 0:\n",
    "                        list.append(temp2)\n",
    "                if not flag:\n",
    "                    if len(list) > 0:\n",
    "                        for i in range(len(list)):\n",
    "                            stack.append(list.pop())\n",
    "                stack.append(temp)\n",
    "            current = current.next\n",
    "        return [i.data for i in stack]\n",
    "\n",
    "    \n",
    "    \n",
    "\n",
    "if __name__ == \"__main__\":\n",
    "    l=LinkedList1()\n",
    "l.append(4)\n",
    "l.append(6)\n",
    "l.append(-10)\n",
    "l.append(8)\n",
    "l.append(9)\n",
    "l.append(10)\n",
    "l.append(-19)\n",
    "l.append(10)\n",
    "l.append(-18)\n",
    "l.append(20)\n",
    "l.append(25)\n",
    "print(l.delete(l.head))\n",
    "  "
   ]
  },
  {
   "cell_type": "markdown",
   "id": "a6cfe4bd",
   "metadata": {},
   "source": [
    "Reverse a linked list in groups of given size\n"
   ]
  },
  {
   "cell_type": "code",
   "execution_count": 2,
   "id": "3ccfc25e",
   "metadata": {},
   "outputs": [
    {
     "name": "stdout",
     "output_type": "stream",
     "text": [
      "Given linked list\n",
      "1 2 3 4 5 6 7 8 9 \n",
      "Reversed Linked list\n",
      "9 8 7 6 5 4 3 2 1 "
     ]
    }
   ],
   "source": [
    "class Node:\n",
    "  \n",
    "    def __init__(self, data):\n",
    "        self.data = data\n",
    "        self.next = None\n",
    "  \n",
    "  \n",
    "class LinkedList:\n",
    "  \n",
    "    def __init__(self):\n",
    "        self.head = None\n",
    "  \n",
    "    def reverse(self, head, k):\n",
    "        \n",
    "        if head == None:\n",
    "            return None\n",
    "        current = head\n",
    "        next = None\n",
    "        prev = None\n",
    "        count = 0\n",
    "  \n",
    "        while(current is not None and count < k):\n",
    "            next = current.next\n",
    "            current.next = prev\n",
    "            prev = current\n",
    "            current = next\n",
    "            count += 1\n",
    "  \n",
    "    \n",
    "        if next is not None:\n",
    "            head.next = self.reverse(next, k)\n",
    "  \n",
    "        return prev\n",
    "  \n",
    "    def push(self, new_data):\n",
    "        new_node = Node(new_data)\n",
    "        new_node.next = self.head\n",
    "        self.head = new_node\n",
    "  \n",
    "    def printList(self):\n",
    "        temp = self.head\n",
    "        while(temp):\n",
    "            print(temp.data,end=' ')\n",
    "            temp = temp.next\n",
    "  \n",
    "  \n",
    "llist = LinkedList()\n",
    "llist.push(9)\n",
    "llist.push(8)\n",
    "llist.push(7)\n",
    "llist.push(6)\n",
    "llist.push(5)\n",
    "llist.push(4)\n",
    "llist.push(3)\n",
    "llist.push(2)\n",
    "llist.push(1)\n",
    "  \n",
    "print(\"Given linked list\")\n",
    "llist.printList()\n",
    "llist.head = llist.reverse(llist.head, 9)\n",
    "  \n",
    "print (\"\\nReversed Linked list\")\n",
    "llist.printList()"
   ]
  },
  {
   "cell_type": "markdown",
   "id": "8925bb1a",
   "metadata": {},
   "source": [
    "Merge a linked list into another linked list at alternate positions.\n"
   ]
  },
  {
   "cell_type": "code",
   "execution_count": 3,
   "id": "44505c12",
   "metadata": {},
   "outputs": [
    {
     "name": "stdout",
     "output_type": "stream",
     "text": [
      "First Linked List:\n",
      "0 1 2 3 \n",
      "Second Linked List:\n",
      "4 5 6 7 8 9 \n",
      "Modified first linked list:\n",
      "0 4 1 5 2 6 3 7 \n",
      "Modified second linked list:\n",
      "8 9 "
     ]
    }
   ],
   "source": [
    "\n",
    "class Node(object):\n",
    "\n",
    "    def __init__(self, data:int):\n",
    "\n",
    "        self.data = data\n",
    "        self.next = None\n",
    "\n",
    "\n",
    "class LinkedList(object):\n",
    "\n",
    "    def __init__(self):\n",
    "\n",
    "        self.head = None\n",
    "\n",
    "        \n",
    "\n",
    "    def push(self, new_data:int):\n",
    "            new_node = Node(new_data)\n",
    "            new_node.next = self.head\n",
    "            self.head = new_node\n",
    "\n",
    "    def printList(self):\n",
    "\n",
    "        temp = self.head\n",
    "        while temp != None:\n",
    "            print(temp.data,end=' ')\n",
    "            temp = temp.next\n",
    "    def merge(self, p, q):\n",
    "        p_curr = p.head\n",
    "        q_curr = q.head\n",
    "        while p_curr != None and q_curr != None:\n",
    "\n",
    "            p_next = p_curr.next\n",
    "            q_next = q_curr.next\n",
    "\n",
    "            q_curr.next = p_next \n",
    "            p_curr.next = q_curr\n",
    "\n",
    "            p_curr = p_next\n",
    "            q_curr = q_next\n",
    "            q.head = q_curr\n",
    "\n",
    "\n",
    "\n",
    "llist1 = LinkedList()\n",
    "llist2 = LinkedList()\n",
    "\n",
    "llist1.push(3)\n",
    "llist1.push(2)\n",
    "llist1.push(1)\n",
    "llist1.push(0)\n",
    "\n",
    "for i in range(9, 3, -1):\n",
    "     llist2.push(i)\n",
    "\n",
    "print(\"First Linked List:\")\n",
    "llist1.printList()\n",
    "\n",
    "print(\"\\nSecond Linked List:\")\n",
    "llist2.printList()\n",
    "\n",
    "llist1.merge(p=llist1, q=llist2)\n",
    "\n",
    "print(\"\\nModified first linked list:\")\n",
    "llist1.printList()\n",
    "\n",
    "print(\"\\nModified second linked list:\")\n",
    "llist2.printList()\n",
    "\n"
   ]
  },
  {
   "cell_type": "markdown",
   "id": "2c0e7482",
   "metadata": {},
   "source": [
    "4. In an array, Count Pairs with given sum\n"
   ]
  },
  {
   "cell_type": "code",
   "execution_count": 4,
   "id": "52cc4588",
   "metadata": {},
   "outputs": [
    {
     "name": "stdout",
     "output_type": "stream",
     "text": [
      "enter the array :1,2,3\n",
      "Pairs whose sum is :  5\n",
      "2 3\n"
     ]
    }
   ],
   "source": [
    "array = eval(input(\"enter the array :\"))\n",
    "\n",
    "def find(array, len, summ):\n",
    "    print(\"Pairs whose sum is : \", summ)\n",
    "    for i in range(len):\n",
    "        for j in range(i, len):\n",
    "            if (array[i] + array[j]) == summ:\n",
    "                print(array[i], array[j])\n",
    "summ = 5\n",
    "find(array, len(array), summ)"
   ]
  },
  {
   "cell_type": "markdown",
   "id": "56e261eb",
   "metadata": {},
   "source": [
    "5.Find duplicates in an array\n"
   ]
  },
  {
   "cell_type": "code",
   "execution_count": 8,
   "id": "67df0069",
   "metadata": {},
   "outputs": [
    {
     "name": "stdout",
     "output_type": "stream",
     "text": [
      "enter the array :1,1,1\n",
      "\n",
      "Duplicate number in array 1\n",
      "\n",
      "Duplicate number in array 1\n",
      "\n",
      "Duplicate number in array 1\n"
     ]
    }
   ],
   "source": [
    "arr = eval(input(\"enter the array :\"))\n",
    "for i in range(0,len(arr)):\n",
    "    for j in range(i+1,len(arr)):\n",
    "            if (arr[i]==arr[j]):\n",
    "                print(\"\\nDuplicate number in array\", arr[j])\n",
    "            "
   ]
  },
  {
   "cell_type": "markdown",
   "id": "fca7c765",
   "metadata": {},
   "source": [
    "6.Find the Kth largest and Kth smallest number in an array\n"
   ]
  },
  {
   "cell_type": "code",
   "execution_count": null,
   "id": "8ba2d4f0",
   "metadata": {},
   "outputs": [
    {
     "name": "stdout",
     "output_type": "stream",
     "text": [
      "enter the array :1,22\n"
     ]
    }
   ],
   "source": [
    "array = eval(input(\"enter the array :\"))\n",
    "\n",
    "def find(array):\n",
    "    array.sort(reverse=True)\n",
    "    print(\"After moving all negative element\",array)\n",
    "    \n",
    "find(array)\n"
   ]
  },
  {
   "cell_type": "markdown",
   "id": "6cd1df8a",
   "metadata": {},
   "source": [
    "7.Move all the negative elements to one side of the array\n"
   ]
  },
  {
   "cell_type": "code",
   "execution_count": 1,
   "id": "435ab5af",
   "metadata": {},
   "outputs": [
    {
     "name": "stdout",
     "output_type": "stream",
     "text": [
      "enter the array :[-1,-33,111]\n",
      "After moving all negative element [111, -1, -33]\n"
     ]
    }
   ],
   "source": [
    "array = eval(input(\"enter the array :\"))\n",
    "\n",
    "def find(array):\n",
    "    array.sort(reverse=True)\n",
    "    print(\"After moving all negative element\",array)\n",
    "find(array)\n"
   ]
  },
  {
   "cell_type": "markdown",
   "id": "c7c97105",
   "metadata": {},
   "source": [
    "8.Reverse a string using a stack data structure\n"
   ]
  },
  {
   "cell_type": "code",
   "execution_count": 2,
   "id": "fa88a691",
   "metadata": {},
   "outputs": [
    {
     "name": "stdout",
     "output_type": "stream",
     "text": [
      "enter the string name : datascience\n",
      "enter the reverse string name : ecneicsatad\n"
     ]
    }
   ],
   "source": [
    "import string\n",
    " \n",
    "def Reverse(s):\n",
    "    stack = []\n",
    "    for i in s:\n",
    "        stack.append(i)\n",
    "        s = \"\"\n",
    "    while stack:\n",
    "        s += stack.pop()\n",
    "    return s\n",
    "if __name__ == \"__main__\":\n",
    "        str = \"datascience\"\n",
    "        print(\"enter the string name :\",str)\n",
    "        reversed_str = Reverse(str)\n",
    "        print(\"enter the reverse string name :\",reversed_str)\n",
    " \n",
    "    "
   ]
  },
  {
   "cell_type": "markdown",
   "id": "c28ef653",
   "metadata": {},
   "source": [
    "9.Evaluate a postfix expression using stack\n"
   ]
  },
  {
   "cell_type": "code",
   "execution_count": null,
   "id": "3a84665b",
   "metadata": {},
   "outputs": [],
   "source": [
    "class Evaluate:\n",
    "\n",
    "\n",
    "    def __init__(self, capacity):\n",
    "\n",
    "        self.top = -1\n",
    "        self.capacity = capacity\n",
    "        self.array = []\n",
    "\n",
    "\n",
    "    def isEmpty(self):\n",
    "            if self.top == -1 :\n",
    "                return True\n",
    "            else: \n",
    "                 return False\n",
    "    def peek(self):\n",
    "\n",
    "            return self.array[-1]\n",
    "    def pop(self):\n",
    "\n",
    "            if not self.isEmpty():\n",
    "\n",
    "                self.top -= 1\n",
    "\n",
    "                return self.array.pop()\n",
    "\n",
    "            else:\n",
    "\n",
    "                 return None\n",
    "    def push(self, num):\n",
    "\n",
    "            self.top += 1\n",
    "            self.array.append(num)\n",
    "            \n",
    "            \n",
    "    def evaluatePostfix(self, exp):\n",
    "        for i in exp:\n",
    "                if i.isdigit():\n",
    "                    self.push(i)\n",
    "                else:\n",
    "                    val1 = self.pop()\n",
    "                    val2 = self.pop()\n",
    "                    self.push(str(eval(val2 + i + val1)))\n",
    "        return int(self.pop())\n",
    "        \n",
    "if __name__ == '__main__':\n",
    "    exp = \"231*+9-\"\n",
    "    \n",
    "    obj = Evaluate(len(exp))\n",
    "    post=obj.evaluatePostfix(exp)\n",
    "        \n",
    "    print(\"postfix evaluation: \",post)"
   ]
  },
  {
   "cell_type": "markdown",
   "id": "86e2b66d",
   "metadata": {},
   "source": [
    "10.Implement a queue using the stack data structure\n"
   ]
  },
  {
   "cell_type": "code",
   "execution_count": 5,
   "id": "3d4ead93",
   "metadata": {},
   "outputs": [
    {
     "name": "stdout",
     "output_type": "stream",
     "text": [
      "1\n",
      "2\n",
      "3\n"
     ]
    }
   ],
   "source": [
    "class Queue:\n",
    "    \n",
    "    def __init__(self):\n",
    "        self.s1 = []\n",
    "        self.s2 = []\n",
    " \n",
    "    def enQueue(self, x):\n",
    "         \n",
    "        while len(self.s1)!= 0:\n",
    "            self.s2.append(self.s1[-1])\n",
    "            self.s1.pop()\n",
    "        self.s1.append(x)\n",
    "\n",
    "        while len(self.s2)!= 0:\n",
    "            self.s1.append(self.s2[-1])\n",
    "            self.s2.pop()\n",
    "    def deQueue(self):\n",
    "         \n",
    "        if len(self.s1) == 0:\n",
    "            return -1;\n",
    "        x = self.s1[-1]\n",
    "        self.s1.pop()\n",
    "        return x\n",
    "    \n",
    "if __name__ == '__main__':\n",
    "    q = Queue()\n",
    "    q.enQueue(1)\n",
    "    q.enQueue(2)\n",
    "    q.enQueue(3)\n",
    "    \n",
    "    \n",
    "    print(q.deQueue())\n",
    "    print(q.deQueue())\n",
    "    print(q.deQueue())\n",
    "    \n",
    "\n",
    "   "
   ]
  },
  {
   "cell_type": "code",
   "execution_count": null,
   "id": "56ef6a15",
   "metadata": {},
   "outputs": [],
   "source": []
  },
  {
   "cell_type": "code",
   "execution_count": null,
   "id": "836c6ab1",
   "metadata": {},
   "outputs": [],
   "source": []
  }
 ],
 "metadata": {
  "kernelspec": {
   "display_name": "Python 3 (ipykernel)",
   "language": "python",
   "name": "python3"
  },
  "language_info": {
   "codemirror_mode": {
    "name": "ipython",
    "version": 3
   },
   "file_extension": ".py",
   "mimetype": "text/x-python",
   "name": "python",
   "nbconvert_exporter": "python",
   "pygments_lexer": "ipython3",
   "version": "3.9.7"
  }
 },
 "nbformat": 4,
 "nbformat_minor": 5
}
